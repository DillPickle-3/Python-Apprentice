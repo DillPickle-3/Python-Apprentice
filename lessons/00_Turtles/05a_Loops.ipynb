{
 "cells": [
  {
   "cell_type": "markdown",
   "metadata": {},
   "source": [
    "# Loops and Variables\n",
    "\n",
    "In our first Tina the Turtle program, we had Tina draw a square, but it was \n",
    "very tedious, and involved a lot of repetition: \n",
    "\n",
    "```python \n",
    "import turtle                           # Tell Python we want to work with the turtle\n",
    "turtle.setup (width=600, height=600)    # Set the size of the window\n",
    "\n",
    "tina = turtle.Turtle()                  # Create a turtle named tina\n",
    "\n",
    "tina.shape('turtle')                    # Set the shape of the turtle to a turtle\n",
    "tina.speed(2)                           # Make the turtle move as fast, but not too fast. \n",
    "\n",
    "tina.forward(150)                       # Move tina forward by the forward distance\n",
    "tina.left(90)                           # Turn tina left by the left turn\n",
    "\n",
    "tina.forward(150)                       # Continuie the last two steps three more times\n",
    "tina.left(90)                           # to draw a square\n",
    "\n",
    "tina.forward(150)\n",
    "tina.left(90)\n",
    "\n",
    "tina.forward(150)\n",
    "tina.left(90)\n",
    "```"
   ]
  },
  {
   "cell_type": "markdown",
   "metadata": {
    "vscode": {
     "languageId": "plaintext"
    }
   },
   "source": [
    "The code \n",
    "\n",
    "```python \n",
    "tina.forward(150)\n",
    "tina.left(90)\n",
    "\n",
    "```\n",
    "\n",
    "gets repeated 4 times. That doesn't seem right!\n",
    "\n",
    "We can improve this code with a loop. Here is an example of a loop:\n",
    "\n",
    "( Remember that you can run it; click the  \"▶️\" on the left. \n",
    " ) "
   ]
  },
  {
   "cell_type": "code",
   "execution_count": 3,
   "metadata": {},
   "outputs": [
    {
     "name": "stdout",
     "output_type": "stream",
     "text": [
      "this is the  0  time this loop has executed\n",
      "boom\n",
      "0  times 2 is  0\n",
      "this is the  1  time this loop has executed\n",
      "boom\n",
      "1  times 2 is  2\n",
      "this is the  2  time this loop has executed\n",
      "boom\n",
      "2  times 2 is  4\n",
      "this is the  3  time this loop has executed\n",
      "boom\n",
      "3  times 2 is  6\n",
      "this is the  4  time this loop has executed\n",
      "boom\n",
      "4  times 2 is  8\n",
      "this is the  5  time this loop has executed\n",
      "boom\n",
      "5  times 2 is  10\n",
      "this is the  6  time this loop has executed\n",
      "boom\n",
      "6  times 2 is  12\n",
      "this is the  7  time this loop has executed\n",
      "boom\n",
      "7  times 2 is  14\n",
      "this is the  8  time this loop has executed\n",
      "boom\n",
      "8  times 2 is  16\n",
      "this is the  9  time this loop has executed\n",
      "boom\n",
      "9  times 2 is  18\n"
     ]
    }
   ],
   "source": [
    "# For loop; try ganing the number of iterations to 6\n",
    "for i in range(10):\n",
    "    print('this is the ', i, \" time this loop has executed\")\n",
    "    print(\"boom\")\n",
    "    print(i, \" times 2 is \", i*2)"
   ]
  },
  {
   "cell_type": "markdown",
   "metadata": {},
   "source": [
    "Notice that the number of iterations is the number inside of the parenthesies in\n",
    "`range()`. Also notice that the `print` statement is indented below the `for` loop\n",
    "line. Indenting is how you tell python what lines of code should be repeated. \n",
    "\n",
    "The `i` in the line `for i in range(4)` is a variable; it will hold the number of the \n",
    "iteration, starting at 0. For most of our loops in this module we won't use the \n",
    "variable, but we will study it more in  a later module. \n",
    "\n",
    "\n",
    "Now try updating the next program ``05_Loop_with_Turtle.py`` with a loop. "
   ]
  },
  {
   "cell_type": "code",
   "execution_count": null,
   "metadata": {},
   "outputs": [],
   "source": []
  }
 ],
 "metadata": {
  "kernelspec": {
   "display_name": "Python 3",
   "language": "python",
   "name": "python3"
  },
  "language_info": {
   "codemirror_mode": {
    "name": "ipython",
    "version": 3
   },
   "file_extension": ".py",
   "mimetype": "text/x-python",
   "name": "python",
   "nbconvert_exporter": "python",
   "pygments_lexer": "ipython3",
   "version": "3.12.4"
  }
 },
 "nbformat": 4,
 "nbformat_minor": 2
}
